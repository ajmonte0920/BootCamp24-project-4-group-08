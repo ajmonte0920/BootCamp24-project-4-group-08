{
 "cells": [
  {
   "cell_type": "code",
   "execution_count": 1,
   "id": "e01b4f9c",
   "metadata": {},
   "outputs": [
    {
     "name": "stdout",
     "output_type": "stream",
     "text": [
      "Copied cleaned_movies_data.csv to cleaned_movies_data_copy.csv.\n",
      "Converted cleaned_movies_data_copy.csv to cleaned_movies_data_copy.json.\n"
     ]
    }
   ],
   "source": [
    "import pandas as pd\n",
    "import shutil\n",
    "\n",
    "# Define the file paths\n",
    "csv_file_path = 'cleaned_movies_data.csv'  # Original CSV file\n",
    "csv_copy_path = 'cleaned_movies_data_copy.csv'  # Copy of the CSV\n",
    "json_file_path = 'cleaned_movies_data_copy.json'  # JSON file to create\n",
    "\n",
    "# Step 1: Create a copy of the CSV file\n",
    "shutil.copy(csv_file_path, csv_copy_path)\n",
    "print(f\"Copied {csv_file_path} to {csv_copy_path}.\")\n",
    "\n",
    "# Step 2: Load the copied CSV file\n",
    "df = pd.read_csv(csv_copy_path)\n",
    "\n",
    "# Step 3: Convert the copied CSV to JSON\n",
    "df.to_json(json_file_path, orient='records', lines=True)\n",
    "print(f\"Converted {csv_copy_path} to {json_file_path}.\")\n"
   ]
  },
  {
   "cell_type": "code",
   "execution_count": null,
   "id": "192d76a3",
   "metadata": {},
   "outputs": [],
   "source": []
  }
 ],
 "metadata": {
  "kernelspec": {
   "display_name": "Python 3 (ipykernel)",
   "language": "python",
   "name": "python3"
  },
  "language_info": {
   "codemirror_mode": {
    "name": "ipython",
    "version": 3
   },
   "file_extension": ".py",
   "mimetype": "text/x-python",
   "name": "python",
   "nbconvert_exporter": "python",
   "pygments_lexer": "ipython3",
   "version": "3.11.7"
  }
 },
 "nbformat": 4,
 "nbformat_minor": 5
}
