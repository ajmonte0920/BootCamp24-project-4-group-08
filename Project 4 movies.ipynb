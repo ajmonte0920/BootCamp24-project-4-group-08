{
 "cells": [
  {
   "cell_type": "code",
   "execution_count": 2,
   "id": "ccbc5ceb-8d7a-473e-9d3d-dade7cd9d4d6",
   "metadata": {},
   "outputs": [],
   "source": [
    "# Dependencies and Setup\n",
    "import hvplot.pandas\n",
    "import pandas as pd\n",
    "import numpy\n",
    "\n",
    "import matplotlib.pyplot as plt\n",
    "import requests\n",
    "\n",
    "\n"
   ]
  },
  {
   "cell_type": "code",
   "execution_count": 9,
   "id": "c7806197-1bb8-4932-9c67-318d7a03deb8",
   "metadata": {},
   "outputs": [
    {
     "data": {
      "text/html": [
       "<div>\n",
       "<style scoped>\n",
       "    .dataframe tbody tr th:only-of-type {\n",
       "        vertical-align: middle;\n",
       "    }\n",
       "\n",
       "    .dataframe tbody tr th {\n",
       "        vertical-align: top;\n",
       "    }\n",
       "\n",
       "    .dataframe thead th {\n",
       "        text-align: right;\n",
       "    }\n",
       "</style>\n",
       "<table border=\"1\" class=\"dataframe\">\n",
       "  <thead>\n",
       "    <tr style=\"text-align: right;\">\n",
       "      <th></th>\n",
       "      <th>Unnamed: 0</th>\n",
       "      <th>Title</th>\n",
       "      <th>Release Date</th>\n",
       "      <th>Description</th>\n",
       "      <th>Rating</th>\n",
       "      <th>No of Persons Voted</th>\n",
       "      <th>Directed by</th>\n",
       "      <th>Written by</th>\n",
       "      <th>Duration</th>\n",
       "      <th>Genres</th>\n",
       "    </tr>\n",
       "  </thead>\n",
       "  <tbody>\n",
       "    <tr>\n",
       "      <th>0</th>\n",
       "      <td>0</td>\n",
       "      <td>Dekalog (1988)</td>\n",
       "      <td>Mar 22, 1996</td>\n",
       "      <td>This masterwork by Krzysztof Kieślowski is one...</td>\n",
       "      <td>7.4</td>\n",
       "      <td>118</td>\n",
       "      <td>Krzysztof Kieslowski</td>\n",
       "      <td>Krzysztof Kieslowski, Krzysztof Piesiewicz</td>\n",
       "      <td>9 h 32 m</td>\n",
       "      <td>Drama</td>\n",
       "    </tr>\n",
       "    <tr>\n",
       "      <th>1</th>\n",
       "      <td>1</td>\n",
       "      <td>Three Colors: Red</td>\n",
       "      <td>Nov 23, 1994</td>\n",
       "      <td>Krzysztof Kieslowski closes his Three Colors t...</td>\n",
       "      <td>8.3</td>\n",
       "      <td>241</td>\n",
       "      <td>Krzysztof Kieslowski</td>\n",
       "      <td>Krzysztof Kieslowski, Krzysztof Piesiewicz, Ag...</td>\n",
       "      <td>1 h 39 m</td>\n",
       "      <td>Drama,Mystery,Romance</td>\n",
       "    </tr>\n",
       "    <tr>\n",
       "      <th>2</th>\n",
       "      <td>2</td>\n",
       "      <td>The Conformist</td>\n",
       "      <td>Oct 22, 1970</td>\n",
       "      <td>Set in Rome in the 1930s, this re-release of B...</td>\n",
       "      <td>7.3</td>\n",
       "      <td>106</td>\n",
       "      <td>Bernardo Bertolucci</td>\n",
       "      <td>Alberto Moravia, Bernardo Bertolucci</td>\n",
       "      <td>1 h 47 m</td>\n",
       "      <td>Drama</td>\n",
       "    </tr>\n",
       "    <tr>\n",
       "      <th>3</th>\n",
       "      <td>3</td>\n",
       "      <td>Tokyo Story</td>\n",
       "      <td>Mar 13, 1972</td>\n",
       "      <td>Yasujiro Ozu’s Tokyo Story follows an aging co...</td>\n",
       "      <td>8.1</td>\n",
       "      <td>147</td>\n",
       "      <td>Yasujirô Ozu</td>\n",
       "      <td>Kôgo Noda, Yasujirô Ozu</td>\n",
       "      <td>2 h 16 m</td>\n",
       "      <td>Drama</td>\n",
       "    </tr>\n",
       "    <tr>\n",
       "      <th>4</th>\n",
       "      <td>4</td>\n",
       "      <td>The Leopard (re-release)</td>\n",
       "      <td>Aug 13, 2004</td>\n",
       "      <td>Set in Sicily in 1860, Luchino Visconti's spec...</td>\n",
       "      <td>7.8</td>\n",
       "      <td>85</td>\n",
       "      <td>Luchino Visconti</td>\n",
       "      <td>Giuseppe Tomasi di Lampedusa, Suso Cecchi D'Am...</td>\n",
       "      <td>3 h 7 m</td>\n",
       "      <td>Drama,History</td>\n",
       "    </tr>\n",
       "  </tbody>\n",
       "</table>\n",
       "</div>"
      ],
      "text/plain": [
       "   Unnamed: 0                     Title  Release Date  \\\n",
       "0           0            Dekalog (1988)  Mar 22, 1996   \n",
       "1           1         Three Colors: Red  Nov 23, 1994   \n",
       "2           2            The Conformist  Oct 22, 1970   \n",
       "3           3               Tokyo Story  Mar 13, 1972   \n",
       "4           4  The Leopard (re-release)  Aug 13, 2004   \n",
       "\n",
       "                                         Description  Rating  \\\n",
       "0  This masterwork by Krzysztof Kieślowski is one...     7.4   \n",
       "1  Krzysztof Kieslowski closes his Three Colors t...     8.3   \n",
       "2  Set in Rome in the 1930s, this re-release of B...     7.3   \n",
       "3  Yasujiro Ozu’s Tokyo Story follows an aging co...     8.1   \n",
       "4  Set in Sicily in 1860, Luchino Visconti's spec...     7.8   \n",
       "\n",
       "  No of Persons Voted           Directed by  \\\n",
       "0                 118  Krzysztof Kieslowski   \n",
       "1                 241  Krzysztof Kieslowski   \n",
       "2                 106   Bernardo Bertolucci   \n",
       "3                 147          Yasujirô Ozu   \n",
       "4                  85      Luchino Visconti   \n",
       "\n",
       "                                          Written by  Duration  \\\n",
       "0         Krzysztof Kieslowski, Krzysztof Piesiewicz  9 h 32 m   \n",
       "1  Krzysztof Kieslowski, Krzysztof Piesiewicz, Ag...  1 h 39 m   \n",
       "2               Alberto Moravia, Bernardo Bertolucci  1 h 47 m   \n",
       "3                            Kôgo Noda, Yasujirô Ozu  2 h 16 m   \n",
       "4  Giuseppe Tomasi di Lampedusa, Suso Cecchi D'Am...   3 h 7 m   \n",
       "\n",
       "                  Genres  \n",
       "0                  Drama  \n",
       "1  Drama,Mystery,Romance  \n",
       "2                  Drama  \n",
       "3                  Drama  \n",
       "4          Drama,History  "
      ]
     },
     "execution_count": 9,
     "metadata": {},
     "output_type": "execute_result"
    }
   ],
   "source": [
    "# Load the CSV file created in Part 1 into a Pandas DataFrame\n",
    "df = pd.read_csv(\"../BootCamp24-project-4-group-08/16k_Movies.csv\")\n",
    "\n",
    "# Display sample data\n",
    "df.head()"
   ]
  },
  {
   "cell_type": "code",
   "execution_count": 10,
   "id": "9c686b56-ea9a-49d1-9a43-76f0400b43df",
   "metadata": {},
   "outputs": [
    {
     "name": "stdout",
     "output_type": "stream",
     "text": [
      "<class 'pandas.core.frame.DataFrame'>\n",
      "RangeIndex: 16290 entries, 0 to 16289\n",
      "Data columns (total 10 columns):\n",
      " #   Column               Non-Null Count  Dtype  \n",
      "---  ------               --------------  -----  \n",
      " 0   Unnamed: 0           16290 non-null  int64  \n",
      " 1   Title                16290 non-null  object \n",
      " 2   Release Date         16290 non-null  object \n",
      " 3   Description          16290 non-null  object \n",
      " 4   Rating               12846 non-null  float64\n",
      " 5   No of Persons Voted  12829 non-null  object \n",
      " 6   Directed by          16283 non-null  object \n",
      " 7   Written by           15327 non-null  object \n",
      " 8   Duration             16277 non-null  object \n",
      " 9   Genres               16285 non-null  object \n",
      "dtypes: float64(1), int64(1), object(8)\n",
      "memory usage: 1.2+ MB\n"
     ]
    }
   ],
   "source": [
    "df.info()"
   ]
  },
  {
   "cell_type": "code",
   "execution_count": 11,
   "id": "939bcd73-bd2d-441a-b56c-ce3e73e36ee8",
   "metadata": {},
   "outputs": [
    {
     "name": "stdout",
     "output_type": "stream",
     "text": [
      "<class 'pandas.core.frame.DataFrame'>\n",
      "Index: 12335 entries, 0 to 16282\n",
      "Data columns (total 10 columns):\n",
      " #   Column               Non-Null Count  Dtype  \n",
      "---  ------               --------------  -----  \n",
      " 0   Unnamed: 0           12335 non-null  int64  \n",
      " 1   Title                12335 non-null  object \n",
      " 2   Release Date         12335 non-null  object \n",
      " 3   Description          12335 non-null  object \n",
      " 4   Rating               12335 non-null  float64\n",
      " 5   No of Persons Voted  12335 non-null  object \n",
      " 6   Directed by          12335 non-null  object \n",
      " 7   Written by           12335 non-null  object \n",
      " 8   Duration             12335 non-null  object \n",
      " 9   Genres               12335 non-null  object \n",
      "dtypes: float64(1), int64(1), object(8)\n",
      "memory usage: 1.0+ MB\n"
     ]
    }
   ],
   "source": [
    "df_cleaned = df.dropna()\n",
    "\n",
    "df_cleaned.info()"
   ]
  },
  {
   "cell_type": "code",
   "execution_count": 12,
   "id": "fbabbc58-37e3-47f9-bad9-e72a10eaa438",
   "metadata": {},
   "outputs": [
    {
     "data": {
      "text/html": [
       "<div>\n",
       "<style scoped>\n",
       "    .dataframe tbody tr th:only-of-type {\n",
       "        vertical-align: middle;\n",
       "    }\n",
       "\n",
       "    .dataframe tbody tr th {\n",
       "        vertical-align: top;\n",
       "    }\n",
       "\n",
       "    .dataframe thead th {\n",
       "        text-align: right;\n",
       "    }\n",
       "</style>\n",
       "<table border=\"1\" class=\"dataframe\">\n",
       "  <thead>\n",
       "    <tr style=\"text-align: right;\">\n",
       "      <th></th>\n",
       "      <th>Unnamed: 0</th>\n",
       "      <th>Title</th>\n",
       "      <th>Release Date</th>\n",
       "      <th>Description</th>\n",
       "      <th>Rating</th>\n",
       "      <th>No of Persons Voted</th>\n",
       "      <th>Directed by</th>\n",
       "      <th>Written by</th>\n",
       "      <th>Duration</th>\n",
       "      <th>Genres</th>\n",
       "    </tr>\n",
       "  </thead>\n",
       "  <tbody>\n",
       "    <tr>\n",
       "      <th>0</th>\n",
       "      <td>0</td>\n",
       "      <td>Dekalog (1988)</td>\n",
       "      <td>Mar 22, 1996</td>\n",
       "      <td>This masterwork by Krzysztof Kieślowski is one...</td>\n",
       "      <td>7.4</td>\n",
       "      <td>118</td>\n",
       "      <td>Krzysztof Kieslowski</td>\n",
       "      <td>Krzysztof Kieslowski, Krzysztof Piesiewicz</td>\n",
       "      <td>9 h 32 m</td>\n",
       "      <td>Drama</td>\n",
       "    </tr>\n",
       "    <tr>\n",
       "      <th>1</th>\n",
       "      <td>1</td>\n",
       "      <td>Three Colors: Red</td>\n",
       "      <td>Nov 23, 1994</td>\n",
       "      <td>Krzysztof Kieslowski closes his Three Colors t...</td>\n",
       "      <td>8.3</td>\n",
       "      <td>241</td>\n",
       "      <td>Krzysztof Kieslowski</td>\n",
       "      <td>Krzysztof Kieslowski, Krzysztof Piesiewicz, Ag...</td>\n",
       "      <td>1 h 39 m</td>\n",
       "      <td>Drama,Mystery,Romance</td>\n",
       "    </tr>\n",
       "    <tr>\n",
       "      <th>2</th>\n",
       "      <td>2</td>\n",
       "      <td>The Conformist</td>\n",
       "      <td>Oct 22, 1970</td>\n",
       "      <td>Set in Rome in the 1930s, this re-release of B...</td>\n",
       "      <td>7.3</td>\n",
       "      <td>106</td>\n",
       "      <td>Bernardo Bertolucci</td>\n",
       "      <td>Alberto Moravia, Bernardo Bertolucci</td>\n",
       "      <td>1 h 47 m</td>\n",
       "      <td>Drama</td>\n",
       "    </tr>\n",
       "    <tr>\n",
       "      <th>3</th>\n",
       "      <td>3</td>\n",
       "      <td>Tokyo Story</td>\n",
       "      <td>Mar 13, 1972</td>\n",
       "      <td>Yasujiro Ozu’s Tokyo Story follows an aging co...</td>\n",
       "      <td>8.1</td>\n",
       "      <td>147</td>\n",
       "      <td>Yasujirô Ozu</td>\n",
       "      <td>Kôgo Noda, Yasujirô Ozu</td>\n",
       "      <td>2 h 16 m</td>\n",
       "      <td>Drama</td>\n",
       "    </tr>\n",
       "    <tr>\n",
       "      <th>4</th>\n",
       "      <td>4</td>\n",
       "      <td>The Leopard (re-release)</td>\n",
       "      <td>Aug 13, 2004</td>\n",
       "      <td>Set in Sicily in 1860, Luchino Visconti's spec...</td>\n",
       "      <td>7.8</td>\n",
       "      <td>85</td>\n",
       "      <td>Luchino Visconti</td>\n",
       "      <td>Giuseppe Tomasi di Lampedusa, Suso Cecchi D'Am...</td>\n",
       "      <td>3 h 7 m</td>\n",
       "      <td>Drama,History</td>\n",
       "    </tr>\n",
       "  </tbody>\n",
       "</table>\n",
       "</div>"
      ],
      "text/plain": [
       "   Unnamed: 0                     Title  Release Date  \\\n",
       "0           0            Dekalog (1988)  Mar 22, 1996   \n",
       "1           1         Three Colors: Red  Nov 23, 1994   \n",
       "2           2            The Conformist  Oct 22, 1970   \n",
       "3           3               Tokyo Story  Mar 13, 1972   \n",
       "4           4  The Leopard (re-release)  Aug 13, 2004   \n",
       "\n",
       "                                         Description  Rating  \\\n",
       "0  This masterwork by Krzysztof Kieślowski is one...     7.4   \n",
       "1  Krzysztof Kieslowski closes his Three Colors t...     8.3   \n",
       "2  Set in Rome in the 1930s, this re-release of B...     7.3   \n",
       "3  Yasujiro Ozu’s Tokyo Story follows an aging co...     8.1   \n",
       "4  Set in Sicily in 1860, Luchino Visconti's spec...     7.8   \n",
       "\n",
       "  No of Persons Voted           Directed by  \\\n",
       "0                 118  Krzysztof Kieslowski   \n",
       "1                 241  Krzysztof Kieslowski   \n",
       "2                 106   Bernardo Bertolucci   \n",
       "3                 147          Yasujirô Ozu   \n",
       "4                  85      Luchino Visconti   \n",
       "\n",
       "                                          Written by  Duration  \\\n",
       "0         Krzysztof Kieslowski, Krzysztof Piesiewicz  9 h 32 m   \n",
       "1  Krzysztof Kieslowski, Krzysztof Piesiewicz, Ag...  1 h 39 m   \n",
       "2               Alberto Moravia, Bernardo Bertolucci  1 h 47 m   \n",
       "3                            Kôgo Noda, Yasujirô Ozu  2 h 16 m   \n",
       "4  Giuseppe Tomasi di Lampedusa, Suso Cecchi D'Am...   3 h 7 m   \n",
       "\n",
       "                  Genres  \n",
       "0                  Drama  \n",
       "1  Drama,Mystery,Romance  \n",
       "2                  Drama  \n",
       "3                  Drama  \n",
       "4          Drama,History  "
      ]
     },
     "execution_count": 12,
     "metadata": {},
     "output_type": "execute_result"
    }
   ],
   "source": [
    "df.head()"
   ]
  },
  {
   "cell_type": "code",
   "execution_count": 18,
   "id": "0391a330-cc52-462e-8a9b-70a1d0b6e22e",
   "metadata": {},
   "outputs": [
    {
     "data": {
      "text/plain": [
       "dtype('<M8[ns]')"
      ]
     },
     "execution_count": 18,
     "metadata": {},
     "output_type": "execute_result"
    }
   ],
   "source": [
    "# Convert the 'Release Date' column to actual datetime format\n",
    "df['Release Date'] = pd.to_datetime(df['Release Date'], errors='coerce')\n",
    "\n",
    "# Display the data type of the 'Release Date' column to confirm conversion\n",
    "df['Release Date'].dtype"
   ]
  },
  {
   "cell_type": "code",
   "execution_count": 19,
   "id": "1a84d2f3-4130-447c-b4cb-ede975e16541",
   "metadata": {},
   "outputs": [
    {
     "name": "stdout",
     "output_type": "stream",
     "text": [
      "<class 'pandas.core.frame.DataFrame'>\n",
      "RangeIndex: 16290 entries, 0 to 16289\n",
      "Data columns (total 10 columns):\n",
      " #   Column               Non-Null Count  Dtype         \n",
      "---  ------               --------------  -----         \n",
      " 0   Unnamed: 0           16290 non-null  int64         \n",
      " 1   Title                16290 non-null  object        \n",
      " 2   Release Date         16290 non-null  datetime64[ns]\n",
      " 3   Description          16290 non-null  object        \n",
      " 4   Rating               12846 non-null  float64       \n",
      " 5   No of Persons Voted  12829 non-null  object        \n",
      " 6   Directed by          16283 non-null  object        \n",
      " 7   Written by           15327 non-null  object        \n",
      " 8   Duration             16277 non-null  object        \n",
      " 9   Genres               16285 non-null  object        \n",
      "dtypes: datetime64[ns](1), float64(1), int64(1), object(7)\n",
      "memory usage: 1.2+ MB\n"
     ]
    }
   ],
   "source": [
    "df.info()"
   ]
  },
  {
   "cell_type": "code",
   "execution_count": 20,
   "id": "38cbbbf2-ebfa-480f-ae27-192314afacc4",
   "metadata": {},
   "outputs": [
    {
     "name": "stdout",
     "output_type": "stream",
     "text": [
      "<class 'pandas.core.frame.DataFrame'>\n",
      "Index: 12335 entries, 0 to 16282\n",
      "Data columns (total 10 columns):\n",
      " #   Column               Non-Null Count  Dtype         \n",
      "---  ------               --------------  -----         \n",
      " 0   Unnamed: 0           12335 non-null  int64         \n",
      " 1   Title                12335 non-null  object        \n",
      " 2   Release Date         12335 non-null  datetime64[ns]\n",
      " 3   Description          12335 non-null  object        \n",
      " 4   Rating               12335 non-null  float64       \n",
      " 5   No of Persons Voted  12335 non-null  object        \n",
      " 6   Directed by          12335 non-null  object        \n",
      " 7   Written by           12335 non-null  object        \n",
      " 8   Duration             12335 non-null  object        \n",
      " 9   Genres               12335 non-null  object        \n",
      "dtypes: datetime64[ns](1), float64(1), int64(1), object(7)\n",
      "memory usage: 1.0+ MB\n"
     ]
    }
   ],
   "source": [
    "df_cleaned = df.dropna()\n",
    "\n",
    "df_cleaned.info()"
   ]
  },
  {
   "cell_type": "code",
   "execution_count": 21,
   "id": "c68b34ec-cfa5-4664-adaf-5e715c2166f0",
   "metadata": {},
   "outputs": [
    {
     "data": {
      "text/plain": [
       "dtype('int32')"
      ]
     },
     "execution_count": 21,
     "metadata": {},
     "output_type": "execute_result"
    }
   ],
   "source": [
    "# Step 1: Remove any commas or non-numeric characters\n",
    "df['No of Persons Voted'] = df['No of Persons Voted'].str.replace(',', '')\n",
    "\n",
    "# Step 2: Convert the column to numeric (will convert invalid entries to NaN)\n",
    "df['No of Persons Voted'] = pd.to_numeric(df['No of Persons Voted'], errors='coerce')\n",
    "\n",
    "# Step 3: Fill NaN values if needed (e.g., with 0, or you can drop them)\n",
    "df['No of Persons Voted'] = df['No of Persons Voted'].fillna(0)\n",
    "\n",
    "# Step 4: Convert the column to integer type\n",
    "df['No of Persons Voted'] = df['No of Persons Voted'].astype(int)\n",
    "\n",
    "# Display the updated data type to verify the change\n",
    "df['No of Persons Voted'].dtype"
   ]
  },
  {
   "cell_type": "code",
   "execution_count": 22,
   "id": "130f26b0-d1f5-4a2c-89ce-402f611e701c",
   "metadata": {},
   "outputs": [
    {
     "name": "stdout",
     "output_type": "stream",
     "text": [
      "<class 'pandas.core.frame.DataFrame'>\n",
      "RangeIndex: 16290 entries, 0 to 16289\n",
      "Data columns (total 10 columns):\n",
      " #   Column               Non-Null Count  Dtype         \n",
      "---  ------               --------------  -----         \n",
      " 0   Unnamed: 0           16290 non-null  int64         \n",
      " 1   Title                16290 non-null  object        \n",
      " 2   Release Date         16290 non-null  datetime64[ns]\n",
      " 3   Description          16290 non-null  object        \n",
      " 4   Rating               12846 non-null  float64       \n",
      " 5   No of Persons Voted  16290 non-null  int32         \n",
      " 6   Directed by          16283 non-null  object        \n",
      " 7   Written by           15327 non-null  object        \n",
      " 8   Duration             16277 non-null  object        \n",
      " 9   Genres               16285 non-null  object        \n",
      "dtypes: datetime64[ns](1), float64(1), int32(1), int64(1), object(6)\n",
      "memory usage: 1.2+ MB\n"
     ]
    }
   ],
   "source": [
    "df.info()"
   ]
  },
  {
   "cell_type": "code",
   "execution_count": 23,
   "id": "4ee623a0-0d8f-410d-8eff-a8fa4335f151",
   "metadata": {},
   "outputs": [
    {
     "name": "stdout",
     "output_type": "stream",
     "text": [
      "<class 'pandas.core.frame.DataFrame'>\n",
      "Index: 12350 entries, 0 to 16282\n",
      "Data columns (total 10 columns):\n",
      " #   Column               Non-Null Count  Dtype         \n",
      "---  ------               --------------  -----         \n",
      " 0   Unnamed: 0           12350 non-null  int64         \n",
      " 1   Title                12350 non-null  object        \n",
      " 2   Release Date         12350 non-null  datetime64[ns]\n",
      " 3   Description          12350 non-null  object        \n",
      " 4   Rating               12350 non-null  float64       \n",
      " 5   No of Persons Voted  12350 non-null  int32         \n",
      " 6   Directed by          12350 non-null  object        \n",
      " 7   Written by           12350 non-null  object        \n",
      " 8   Duration             12350 non-null  object        \n",
      " 9   Genres               12350 non-null  object        \n",
      "dtypes: datetime64[ns](1), float64(1), int32(1), int64(1), object(6)\n",
      "memory usage: 1013.1+ KB\n"
     ]
    }
   ],
   "source": [
    "df_cleaned = df.dropna()\n",
    "\n",
    "df_cleaned.info()"
   ]
  },
  {
   "cell_type": "code",
   "execution_count": null,
   "id": "11b4a2fa-47a2-4b2f-b4c5-d10d4ae6d236",
   "metadata": {},
   "outputs": [],
   "source": []
  }
 ],
 "metadata": {
  "kernelspec": {
   "display_name": "Python 3 (ipykernel)",
   "language": "python",
   "name": "python3"
  },
  "language_info": {
   "codemirror_mode": {
    "name": "ipython",
    "version": 3
   },
   "file_extension": ".py",
   "mimetype": "text/x-python",
   "name": "python",
   "nbconvert_exporter": "python",
   "pygments_lexer": "ipython3",
   "version": "3.10.14"
  }
 },
 "nbformat": 4,
 "nbformat_minor": 5
}
